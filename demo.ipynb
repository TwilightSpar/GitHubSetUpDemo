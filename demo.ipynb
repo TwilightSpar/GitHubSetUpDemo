{
 "cells": [
  {
   "cell_type": "markdown",
   "id": "6fdb9679",
   "metadata": {},
   "source": [
    "# Git and GitHub command demo"
   ]
  },
  {
   "cell_type": "markdown",
   "id": "9953b798",
   "metadata": {},
   "source": [
    "## By creating a git repository, you have two ways\n",
    "- create on your local computer, `git init`\n",
    "- clone a repository from GitHub, `git clone`"
   ]
  },
  {
   "cell_type": "markdown",
   "id": "fc9ca8ab",
   "metadata": {
    "scrolled": true
   },
   "source": [
    "`! git init`\n",
    "\n",
    "Output:\n",
    ">Initialized empty Git repository in C:/Users/GitHubSetUpDemp/.git/\n"
   ]
  },
  {
   "cell_type": "markdown",
   "id": "d014c1b2",
   "metadata": {
    "scrolled": true
   },
   "source": [
    "`! git clone https://github.com/TwilightSpar/GitHubSetUpDemo.git`"
   ]
  },
  {
   "cell_type": "markdown",
   "id": "6c506d30",
   "metadata": {},
   "source": [
    "If you are using `git init`, you will need to connect your branch to the remote one on GitHub\n",
    "\n",
    "|local| origin(GitHub)|\n",
    "| :---: | :-----------: |\n",
    "|main | origin/[BranchName(default: main)]|\n",
    "|brach_1_local| branch_1_remote|\n",
    "\n",
    "origin is a remote repository name, you can name it to \"GitHub\" or anything, default is origin \\\n",
    "origin repository has the url of https://github.com/ [username] / [RepoName]"
   ]
  },
  {
   "cell_type": "markdown",
   "id": "90c1f3e0",
   "metadata": {},
   "source": [
    "First, use `git config –global user.name \"[name]\"` \\\n",
    "and `git config –global user.email \"[email address]\"` to login to your GitHub account\n",
    "\n",
    "Then, use to `git remote add origin [Remote Server Link]`, to connect your local repository to the remote server\n",
    "\n",
    "Now you can see, the GitHub have the origin repository:\n",
    "\n",
    "`! git remote`\n",
    "\n",
    "Output:\n",
    "> origin\n",
    "\n",
    "\n",
    "Then, use `git push -u <remote-branch>` to update the remote branch "
   ]
  },
  {
   "cell_type": "markdown",
   "id": "7e8940bb",
   "metadata": {},
   "source": [
    "## Make changes\n",
    "This picture explains all basic files change commands\n",
    "<img src=\"./img/zBb51.png\"  alt=\"git process\"\n",
    "     style=\"width=100;\"/>\n"
   ]
  },
  {
   "cell_type": "markdown",
   "id": "38b363e3",
   "metadata": {},
   "source": [
    "First, we create a file and commit the changes. We can use `status` and `diff` to shows the file changes and differences which are not yet staged."
   ]
  },
  {
   "cell_type": "markdown",
   "id": "ad11a1bc",
   "metadata": {},
   "source": [
    "create new file and write sth\\\n",
    "`echo change 1 > filename.txt`\n",
    "\n",
    "show difference\\\n",
    "`git diff`\n",
    "\n",
    "Output:\n",
    ">diff --git a/demo.ipynb b/demo.ipynb\n",
    ">index 353a544..500fea0 100644\n",
    ">--- a/demo.ipynb\n",
    ">+++ b/demo.ipynb\n",
    "\n",
    "stage the changes\\\n",
    "`git add .`\n",
    "\n",
    "commit the changes\\\n",
    "`git commit -m \"commit 1\"`\n"
   ]
  },
  {
   "cell_type": "markdown",
   "id": "b979e57f",
   "metadata": {},
   "source": [
    "When you want to record the current state of the working directory and the index, but want to go back to a clean working directory. The `stash` command saves your local modifications away and reverts the working directory to match the HEAD commit."
   ]
  },
  {
   "cell_type": "markdown",
   "id": "6b32d18c",
   "metadata": {},
   "source": [
    "`echo change 2 > filename2.txt`\\\n",
    "`git add .`\\\n",
    "`git status`\n",
    "\n",
    "output:\n",
    ">Changes to be committed:\n",
    "  (use \"git restore --staged <file>...\" to unstage)\n",
    "        new file:   filename2.txt\n",
    " \n",
    "Now use `stash`, this will save all uncommitted file into some where else, give you a clean working directory\n",
    "\n",
    "output:\n",
    ">`nothing to commit, working tree clean`\n",
    "\n",
    "If we want to get back the stashed files:\n",
    "\n",
    "`git stash apply` will give back the changes, but the stashed file still saved.\\\n",
    "we can use `git stash drop` to drop the stashed files\\\n",
    "`git stash pop` = `git stash apply` + `git stash drop`"
   ]
  },
  {
   "cell_type": "markdown",
   "id": "7a26d432",
   "metadata": {},
   "source": [
    "## Branch basic \n"
   ]
  },
  {
   "cell_type": "markdown",
   "id": "4815f800",
   "metadata": {},
   "source": [
    "`git branch`  # see local branchs\n",
    "\n",
    "Output:\n",
    "> \\* master"
   ]
  },
  {
   "cell_type": "markdown",
   "id": "1434c704",
   "metadata": {},
   "source": [
    "`git checkout -b branch_1_local`  # create new branch and switch to it\n",
    "\n",
    "`git branch`\n",
    "\n",
    "Output:\n",
    "> \\* branch_1_local\\\n",
    "> master"
   ]
  },
  {
   "cell_type": "markdown",
   "id": "00502108",
   "metadata": {},
   "source": [
    "Now I create a new branch and am in branch_1_local. To push these change to GitHub run:"
   ]
  },
  {
   "cell_type": "markdown",
   "id": "3680b58d",
   "metadata": {
    "scrolled": true
   },
   "source": [
    "`git branch -r`  # -r see remote branch\n",
    "\n",
    "`git push -u origin branch_1_local:branch_1_remote`\n",
    "\n",
    "Output:\n",
    ">remote: Resolving deltas: 100% (1/1), done.\\\n",
    ">To https://github.com/TwilightSpar/GitHubSetUpDemo \\\n",
    "> \\* [new branch]      branch_1_local -> branch_1_remote\\\n",
    "> branch 'branch_1_local' set up to track 'origin/branch_1_remote'."
   ]
  },
  {
   "cell_type": "markdown",
   "id": "275209cf",
   "metadata": {},
   "source": [
    "because GitHub does not have branch_1_remote, so it will create a new branch\n",
    "\n",
    "now on my GitHub repository, there is a new branch named `branch_1_remote`"
   ]
  },
  {
   "cell_type": "markdown",
   "id": "695da10c",
   "metadata": {},
   "source": [
    "### -r see remote branch\n",
    "`git branch -r`  \n",
    "\n",
    "Output:\n",
    "> origin/branch_1_remote"
   ]
  },
  {
   "cell_type": "markdown",
   "id": "73716f09",
   "metadata": {},
   "source": [
    "### change branch name\n",
    "`git branch --move branch_1_local branch_1_local_new `  \n",
    "\n",
    "### push new branch to origin\n",
    "`! git push -u origin branch_1_local_new:branch_1_remote_new ` \n",
    "    \n",
    "### delete old remote branch\n",
    "`! git push origin --delete branch_1_remote'\n",
    "\n",
    "Output:\n",
    "> To https://github.com/TwilightSpar/GitHubSetUpDemo \\\n",
    "> \\- [deleted]         branch_1_remote\n",
    "\n",
    "\n",
    "`! git branch -r ` # -r see remote branch\n",
    "\n",
    "Output:\n",
    "> origin/branch_1_remote_new \\\n",
    "> origin/master\n"
   ]
  },
  {
   "cell_type": "markdown",
   "id": "01db97d9",
   "metadata": {},
   "source": [
    "### To delete local branch use:\n",
    "\n",
    "- `git branch -d my-branch-name`,  only deletes the branch if it has already been merged\n",
    "- `git branch -D my-branch-name`, force delete"
   ]
  },
  {
   "cell_type": "markdown",
   "id": "74cc7339",
   "metadata": {},
   "source": [
    "## merge branch\n",
    "suppose we want to merge branch `branch_1_local_new` into `main` \\\n",
    "first we need to stay in `main` branch"
   ]
  },
  {
   "cell_type": "markdown",
   "id": "1d385d56",
   "metadata": {},
   "source": [
    "### Let's make new changes to branch 1 and commit it.\n",
    "\n",
    "`echo change 3 on branch 1 new > filename3.txt`\\\n",
    "`git add .`\\\n",
    "`git commit -m \"commit 1 on branch new\"`\\\n",
    "\n",
    "### change to main branch \\\n",
    "`git checkout master`\n",
    "\n",
    "### merge \\\n",
    "`git merge branch_1_local_new`\n",
    "\n",
    "Output:\n",
    "> Updating c52fbcc..4f41d58 \\\n",
    "> Fast-forward \\\n",
    "> demo.ipynb    | 148 +++++++++++++++++++++++++++++----------------------------- \\\n",
    "> filename3.txt |   1 + \\\n",
    "> 2 files changed, 75 insertions(+), 74 deletions(-) \\\n",
    "> create mode 100644 filename3.txt \\\n"
   ]
  },
  {
   "cell_type": "code",
   "execution_count": null,
   "id": "4e59879a",
   "metadata": {},
   "outputs": [],
   "source": []
  }
 ],
 "metadata": {
  "kernelspec": {
   "display_name": "Python 3",
   "language": "python",
   "name": "python3"
  },
  "language_info": {
   "codemirror_mode": {
    "name": "ipython",
    "version": 3
   },
   "file_extension": ".py",
   "mimetype": "text/x-python",
   "name": "python",
   "nbconvert_exporter": "python",
   "pygments_lexer": "ipython3",
   "version": "3.9.6"
  }
 },
 "nbformat": 4,
 "nbformat_minor": 5
}
